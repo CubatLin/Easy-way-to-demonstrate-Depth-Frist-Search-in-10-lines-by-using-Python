{
 "cells": [
  {
   "cell_type": "markdown",
   "metadata": {},
   "source": [
    "### Pre Process"
   ]
  },
  {
   "cell_type": "code",
   "execution_count": 1,
   "metadata": {},
   "outputs": [],
   "source": [
    "%reset -f\n",
    "import pandas as pd\n",
    "from collections import deque\n",
    "import numpy as np\n",
    "\n",
    "c1 = [6,1,5,7,6,2,2]\n",
    "c2 = [1,5,7,6,2,8,4]\n",
    " \n",
    "data_array = np.vstack((c1,c2)).T\n",
    "del c1 ,c2\n",
    "\n",
    "Adj_List = [[] for i in  range(data_array.max()+1)]#無向圖  \n",
    "Adj_DList = [[] for i in  range(data_array.max()+1)]#有向圖\n",
    "Adj_RDList = [[] for i in  range(data_array.max()+1)]#反向圖\n",
    "\n",
    "#Prepare Graph data\n",
    "for i,j in data_array:\n",
    "    Adj_List[i].append(j)\n",
    "    Adj_List[j].append(i)\n",
    "    Adj_DList[i].append(j)\n",
    "    Adj_RDList[j].append(i)"
   ]
  },
  {
   "cell_type": "code",
   "execution_count": 6,
   "metadata": {},
   "outputs": [
    {
     "data": {
      "text/plain": [
       "[[], [6, 5], [6, 8, 4], [], [2], [1, 7], [1, 7, 2], [5, 6], [2]]"
      ]
     },
     "execution_count": 6,
     "metadata": {},
     "output_type": "execute_result"
    }
   ],
   "source": [
    "Adj_List"
   ]
  },
  {
   "cell_type": "code",
   "execution_count": 5,
   "metadata": {},
   "outputs": [
    {
     "data": {
      "text/plain": [
       "[[], [5], [8, 4], [], [], [7], [1, 2], [6], []]"
      ]
     },
     "execution_count": 5,
     "metadata": {},
     "output_type": "execute_result"
    }
   ],
   "source": [
    "Adj_DList"
   ]
  },
  {
   "cell_type": "code",
   "execution_count": 7,
   "metadata": {},
   "outputs": [
    {
     "data": {
      "text/plain": [
       "[[], [6], [6], [], [2], [1], [7], [5], [2]]"
      ]
     },
     "execution_count": 7,
     "metadata": {},
     "output_type": "execute_result"
    }
   ],
   "source": [
    "Adj_RDList"
   ]
  },
  {
   "cell_type": "markdown",
   "metadata": {},
   "source": [
    "### Initial"
   ]
  },
  {
   "cell_type": "code",
   "execution_count": 2,
   "metadata": {},
   "outputs": [],
   "source": [
    "t=0\n",
    "top=0\n",
    "visit=np.zeros(data_array.max()+1,'i4')\n",
    "visit_point=np.zeros(data_array.max()+1,'i4')\n",
    "\n",
    "instack=np.zeros(data_array.max()+1,'i4')#是否在堆裡(boolean)\n",
    "low=np.zeros(data_array.max()+1,'i4') #對index來講,最早能回朔到的源頭的in time\n",
    "contract=np.zeros(data_array.max()+1,'i4')#final:儲存代表號的array\n",
    "stack=np.zeros(data_array.max()+1,'i4')#存堆(tmp)"
   ]
  },
  {
   "cell_type": "markdown",
   "metadata": {},
   "source": [
    "### Strongly Connected Component"
   ]
  },
  {
   "cell_type": "code",
   "execution_count": 3,
   "metadata": {},
   "outputs": [
    {
     "name": "stdout",
     "output_type": "stream",
     "text": [
      "stack:[top] 6\n",
      "stack:[top] 1\n",
      "stack:[top] 5\n",
      "stack:[top] 7\n",
      "instack cond 7\n",
      "Now low[i]: 1  (time)\n",
      "----------\n",
      "End i: 7\n",
      "instack cond 5\n",
      "Now low[i]: 1  (time)\n",
      "----------\n",
      "End i: 5\n",
      "instack cond 1\n",
      "Now low[i]: 1  (time)\n",
      "----------\n",
      "End i: 1\n",
      "instack cond 6\n",
      "Now low[i]: 1  (time)\n",
      "----------\n",
      "stack:[top] 2\n",
      "stack:[top] 8\n",
      "if (visit[i] == low[i]) COND i: 8 /visit[i]: 6\n",
      "Now top: 6\n",
      "Now top-1: 5\n",
      "Now stack: [6 1 5 7 2 8 0 0 0]\n",
      "---------\n",
      "stack:[top] 4\n",
      "if (visit[i] == low[i]) COND i: 4 /visit[i]: 7\n",
      "Now top: 6\n",
      "Now top-1: 5\n",
      "Now stack: [6 1 5 7 2 4 0 0 0]\n",
      "---------\n",
      "if (visit[i] == low[i]) COND i: 2 /visit[i]: 5\n",
      "Now top: 5\n",
      "Now top-1: 4\n",
      "Now stack: [6 1 5 7 2 4 0 0 0]\n",
      "---------\n",
      "if (visit[i] == low[i]) COND i: 6 /visit[i]: 1\n",
      "Now top: 4\n",
      "Now top-1: 3\n",
      "Now stack: [6 1 5 7 2 4 0 0 0]\n",
      "Now top: 3\n",
      "Now top-1: 2\n",
      "Now stack: [6 1 5 7 2 4 0 0 0]\n",
      "Now top: 2\n",
      "Now top-1: 1\n",
      "Now stack: [6 1 5 7 2 4 0 0 0]\n",
      "Now top: 1\n",
      "Now top-1: 0\n",
      "Now stack: [6 1 5 7 2 4 0 0 0]\n",
      "---------\n"
     ]
    }
   ],
   "source": [
    "#只有有向圖會考慮強連通分量(SCC)，無向圖整個都是強連通分量(SCC)。    \n",
    "def DFS_list_SCC(i,Adj_Dlist):\n",
    "    if (visit[i]!=0):return;\n",
    "    global t ; global top\n",
    "    visit_point[t]=i\n",
    "    t+=1\n",
    "    visit[i] = low[i] =t\n",
    "    \n",
    "    #堆一次就+1\n",
    "    stack[top] = i; instack[i] = True\n",
    "    print('stack:[top]',i)\n",
    "    top+=1\n",
    "  \n",
    "    for j in Adj_Dlist[i]:\n",
    "        if visit[j]==0:\n",
    "            DFS_list_SCC(j,Adj_Dlist)\n",
    "        #如果j有在堆裡,把i的最低low改成i,j中最小的\n",
    "        #Hint:如果成環, 必會指回環的開頭\n",
    "        #把成員的low[i]改成組長的,\n",
    "        #這樣成員就不會在if (visit[i] == low[i]):這段去尋找強連通 \n",
    "        if instack[j]==True: \n",
    "            low[i] = min(low[i], low[j])\n",
    "            print('instack cond',i)\n",
    "            print('Now low[i]:',low[i],' (time)')\n",
    "            print('----------')\n",
    "    \n",
    "    #當visit[i]跟low[i]一樣,把i當頭,尋找i以下的強連通        \n",
    "    if (visit[i] == low[i]): \n",
    "        print('if (visit[i] == low[i]) COND','i:',i,'/visit[i]:',visit[i])\n",
    "        j=0\n",
    "        #把在堆裡的從最後往後拔\n",
    "        while True:\n",
    "            print(\"Now top:\",top)\n",
    "            top-=1\n",
    "            print(\"Now top-1:\",top)\n",
    "            print(\"Now stack:\",stack)\n",
    "            j = stack[top]\n",
    "            instack[j] = False\n",
    "            contract[j] = i\n",
    "            if i==j:\n",
    "                print('---------')\n",
    "                break\n",
    "    else:\n",
    "        print('End i:',i)\n",
    "        \n",
    "DFS_list_SCC(6,Adj_DList) #Strongly Connected Component"
   ]
  },
  {
   "cell_type": "code",
   "execution_count": 4,
   "metadata": {},
   "outputs": [
    {
     "data": {
      "text/plain": [
       "array([0, 6, 2, 0, 4, 6, 6, 6, 8])"
      ]
     },
     "execution_count": 4,
     "metadata": {},
     "output_type": "execute_result"
    }
   ],
   "source": [
    "contract"
   ]
  }
 ],
 "metadata": {
  "kernelspec": {
   "display_name": "Python 3",
   "language": "python",
   "name": "python3"
  },
  "language_info": {
   "codemirror_mode": {
    "name": "ipython",
    "version": 3
   },
   "file_extension": ".py",
   "mimetype": "text/x-python",
   "name": "python",
   "nbconvert_exporter": "python",
   "pygments_lexer": "ipython3",
   "version": "3.7.4"
  }
 },
 "nbformat": 4,
 "nbformat_minor": 2
}
