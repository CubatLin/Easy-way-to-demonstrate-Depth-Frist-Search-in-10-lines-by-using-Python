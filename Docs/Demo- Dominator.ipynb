{
 "cells": [
  {
   "cell_type": "markdown",
   "metadata": {},
   "source": [
    "### Pre-Process"
   ]
  },
  {
   "cell_type": "code",
   "execution_count": 1,
   "metadata": {},
   "outputs": [],
   "source": [
    "%reset -f\n",
    "import pandas as pd\n",
    "from collections import deque\n",
    "import numpy as np\n",
    "\n",
    "c1 = [7,7,7,3,3,8,2,6,6,4,4,1,1]\n",
    "c2 = [3,6,4,8,2,0,0,4,1,1,5,5,2]\n",
    " \n",
    "data_array = np.vstack((c1,c2)).T\n",
    "del c1 ,c2\n",
    "\n",
    "\n",
    "Adj_List = [[] for i in  range(data_array.max()+1)]#無向圖  \n",
    "Adj_DList = [[] for i in  range(data_array.max()+1)]#有向圖\n",
    "Adj_RDList = [[] for i in  range(data_array.max()+1)]#反向圖\n",
    "\n",
    "#Prepare Graph data\n",
    "for i,j in data_array:\n",
    "    #無向圖\n",
    "    Adj_List[i].append(j)\n",
    "    Adj_List[j].append(i)\n",
    "    #有向圖\n",
    "    Adj_DList[i].append(j)\n",
    "    #反向圖\n",
    "    Adj_RDList[j].append(i)"
   ]
  },
  {
   "cell_type": "code",
   "execution_count": 4,
   "metadata": {},
   "outputs": [
    {
     "data": {
      "text/plain": [
       "[[8, 2],\n",
       " [6, 4, 5, 2],\n",
       " [3, 0, 1],\n",
       " [7, 8, 2],\n",
       " [7, 6, 1, 5],\n",
       " [4, 1],\n",
       " [7, 4, 1],\n",
       " [3, 6, 4],\n",
       " [3, 0]]"
      ]
     },
     "execution_count": 4,
     "metadata": {},
     "output_type": "execute_result"
    }
   ],
   "source": [
    "Adj_List"
   ]
  },
  {
   "cell_type": "code",
   "execution_count": 5,
   "metadata": {},
   "outputs": [
    {
     "data": {
      "text/plain": [
       "[[], [5, 2], [0], [8, 2], [1, 5], [], [4, 1], [3, 6, 4], [0]]"
      ]
     },
     "execution_count": 5,
     "metadata": {},
     "output_type": "execute_result"
    }
   ],
   "source": [
    "Adj_DList"
   ]
  },
  {
   "cell_type": "code",
   "execution_count": 6,
   "metadata": {},
   "outputs": [
    {
     "data": {
      "text/plain": [
       "[[8, 2], [6, 4], [3, 1], [7], [7, 6], [4, 1], [7], [], [3]]"
      ]
     },
     "execution_count": 6,
     "metadata": {},
     "output_type": "execute_result"
    }
   ],
   "source": [
    "Adj_RDList"
   ]
  },
  {
   "cell_type": "markdown",
   "metadata": {},
   "source": [
    "### Initial"
   ]
  },
  {
   "cell_type": "code",
   "execution_count": 2,
   "metadata": {},
   "outputs": [],
   "source": [
    "visit=np.zeros(data_array.max()+1,'i4') #遍歷in的時間\n",
    "visit_point=np.zeros(data_array.max()+1,'i4') #紀錄遍歷順序的array\n",
    "\n",
    "#儲存區/ Init:自己\n",
    "parent =np.zeros(data_array.max()+1,'i4') #紀錄父節點:遍歷過程中上一層的點\n",
    "p = np.zeros(data_array.max()+1,'i4') #parent的tmp\n",
    "sdom = np.zeros(data_array.max()+1,'i4') #(tmp)入邊中能回朔到的最高點(最高的意思就是最早遍歷)->所以有可能是入邊(或是其他點的best)\n",
    "best = np.zeros(data_array.max()+1,'i4') #idom的tmp/用來存當前運算時的支配點\n",
    "idom = np.zeros(data_array.max()+1,'i4') #運算時:找i不如找idom[i](次低支配點)/最後儲存支配點的array\n",
    "\n",
    "idom_T = np.zeros(data_array.max()+1,'i4')\n",
    "\n",
    "for i in range(data_array.max()+1):\n",
    "    parent[i] = p[i] = best[i] = sdom[i] = idom[i] = i;\n",
    "revsdom=[[] for i in range(data_array.max()+1)] \n",
    "#組長紀錄成員的list,組長是成員入邊中所能找到的最高點"
   ]
  },
  {
   "cell_type": "markdown",
   "metadata": {},
   "source": [
    "### DFS"
   ]
  },
  {
   "cell_type": "code",
   "execution_count": 3,
   "metadata": {},
   "outputs": [],
   "source": [
    "t=0\n",
    "#Depth-First Search Main Function \n",
    "def DFS_list(x,Adj):\n",
    "    global t\n",
    "    #bottom line:\n",
    "    if (visit[x]!=0):return;\n",
    "    \n",
    "    #start\n",
    "    visit_point[t]=x\n",
    "    t+=1      \n",
    "    visit[x] = t\n",
    "    for j in Adj[x]:\n",
    "        if (visit[j]==0):\n",
    "            DFS_list(j,Adj)\n",
    "            parent[j] = x\n",
    "\n",
    "\n",
    "DFS_list(7,Adj_DList)"
   ]
  },
  {
   "cell_type": "code",
   "execution_count": 7,
   "metadata": {},
   "outputs": [
    {
     "data": {
      "text/plain": [
       "array([7, 3, 8, 0, 2, 6, 4, 1, 5])"
      ]
     },
     "execution_count": 7,
     "metadata": {},
     "output_type": "execute_result"
    }
   ],
   "source": [
    "visit_point"
   ]
  },
  {
   "cell_type": "code",
   "execution_count": 8,
   "metadata": {},
   "outputs": [
    {
     "data": {
      "text/plain": [
       "array([4, 8, 5, 2, 7, 9, 6, 1, 3])"
      ]
     },
     "execution_count": 8,
     "metadata": {},
     "output_type": "execute_result"
    }
   ],
   "source": [
    "visit"
   ]
  },
  {
   "cell_type": "markdown",
   "metadata": {},
   "source": [
    "### Dominator"
   ]
  },
  {
   "cell_type": "code",
   "execution_count": 9,
   "metadata": {},
   "outputs": [],
   "source": [
    "def find(x):\n",
    "    if (x==p[x]):\n",
    "        return x\n",
    "    y = find(p[x])\n",
    "    #如果父節點best[p[x]]有入邊比best[x]早,\n",
    "    #這樣以後找best[x]就不如找best[p[x]]好了(DP)\n",
    "    if (visit[sdom[best[p[x]]]] < visit[sdom[best[x]]]):\n",
    "        print('find更新:','把best[p[x]]:',best[p[x]],'->存到best[x]:',best[x])\n",
    "        best[x] = best[p[x]]\n",
    "    p[x] = y\n",
    "    return p[x]\n",
    "\n",
    "def DFS_list_Dominator(root,visit_member,Adj_list,Adj_Rlist):\n",
    "    #尋找支配點,某點j的支配點定義為,若拔掉該支配點,則從root開始必走不到j這點\n",
    "    #應用層面:拔掉支配點,家戶會破碎->支配點同時影響兩個家庭\n",
    "    #Step 1:\n",
    "    for k in range(t-1,0,-1):#根節點沒做\n",
    "        i = visit_member[k];\n",
    "        print('------------')\n",
    "        print('New Stage:',i)\n",
    "        #先看最早入邊有沒有比i早的,更新i的sdom\n",
    "        for j in Adj_Rlist[i]:#check j指向i的有沒有更早的入邊(sdom)\n",
    "            print('j:',j)\n",
    "            if (visit[j]):\n",
    "                find(j)\n",
    "                #如果best[j]的入邊時間比i的最早入邊還早,就更新i的最早入邊呀\n",
    "                if (visit[sdom[best[j]]] < visit[sdom[i]]):\n",
    "                    sdom[i] = sdom[best[j]]#更新i的組長是誰\n",
    "                    print('i:',i,' 更新最早入邊:',sdom[best[j]])\n",
    "        revsdom[sdom[i]].append(i)#組長記錄組員;\n",
    "        #在每一次i的迴圈中,會透過動態的調整best並即時確認best\n",
    "        print('i入邊最早的成員有:','Lead(sdom[i]):',sdom[i],\n",
    "              '/Members(revsdom[sdom[i]]):',revsdom[sdom[i]],'New In:',i)\n",
    "        #把當前i當子樹頭，更新組員j們中idom\n",
    "        #會有兩種情境:\n",
    "        #第一種(if):如果j的best比i高,則先暫訂該j為i的idom(支配點)\n",
    "        #第二種(else):如果組員j的best沒比組長i高,則該組員的idom(支配點)必是組長i\n",
    "        for j in revsdom[i]:\n",
    "            find(j) #透過find函數去更新best,p\n",
    "            #如果組員j的best比我小,則j的支配點(idom[j])是best[j];反之就是我i\n",
    "            if visit[sdom[best[j]]] < visit[i]:\n",
    "                idom[j]=best[j]\n",
    "            else:\n",
    "                idom[j]=i\n",
    "        #更新父節點\n",
    "        for j in Adj_list[i]: #紀錄j的父節點p \n",
    "            if (parent[j] == i):\n",
    "                p[j] = i;\n",
    "    #Step 2:\n",
    "    #只補做根節點=root這一個點,根節點可能是某個開頭,並不是全域最早\n",
    "    for j in revsdom[root]:\n",
    "        find(j)\n",
    "        if visit[sdom[best[j]]] < visit[root]:\n",
    "            idom[j]=best[j]\n",
    "        else:\n",
    "            idom[j]=root\n",
    "    #Step 3:\n",
    "    # 時刻從小到大，依序完成idom[best[j]]\n",
    "    print('---------------------------------------','\\n'\n",
    "          'Step 3:時刻從小到大，依序完成idom的遞推更新')\n",
    "    for k in range(t):\n",
    "        i = visit_member[k];\n",
    "        print('i:',i,'idom[i]:',idom[i],'sdom[i]:',sdom[i])\n",
    "        if idom[i] != sdom[i]: \n",
    "            #當i的idom(次低支配點)不等於i的sdom(入邊能回朔到的最高點)\n",
    "            idom[i] = idom[idom[i]] #把頭的idom一步一步往下傳給各個成員\n",
    "    #Step 4:\n",
    "    #歸戶需要,支配點中,出邊必須兩條以上才被認為是支配點    \n",
    "    for i in list(set(idom)):\n",
    "        if len(Adj_List[idom[i]])>1:\n",
    "            idom_T[i]=1"
   ]
  },
  {
   "cell_type": "code",
   "execution_count": 10,
   "metadata": {
    "scrolled": true
   },
   "outputs": [
    {
     "name": "stdout",
     "output_type": "stream",
     "text": [
      "------------\n",
      "New Stage: 5\n",
      "j: 4\n",
      "i: 5  更新最早入邊: 4\n",
      "j: 1\n",
      "i入邊最早的成員有: Lead(sdom[i]): 4 /Members(revsdom[sdom[i]]): [5] New In: 5\n",
      "------------\n",
      "New Stage: 1\n",
      "j: 6\n",
      "i: 1  更新最早入邊: 6\n",
      "j: 4\n",
      "i入邊最早的成員有: Lead(sdom[i]): 6 /Members(revsdom[sdom[i]]): [1] New In: 1\n",
      "------------\n",
      "New Stage: 4\n",
      "j: 7\n",
      "i: 4  更新最早入邊: 7\n",
      "j: 6\n",
      "i入邊最早的成員有: Lead(sdom[i]): 7 /Members(revsdom[sdom[i]]): [4] New In: 4\n",
      "find更新: 把best[p[x]]: 1 ->存到best[x]: 5\n",
      "------------\n",
      "New Stage: 6\n",
      "j: 7\n",
      "i: 6  更新最早入邊: 7\n",
      "i入邊最早的成員有: Lead(sdom[i]): 7 /Members(revsdom[sdom[i]]): [4, 6] New In: 6\n",
      "find更新: 把best[p[x]]: 4 ->存到best[x]: 1\n",
      "------------\n",
      "New Stage: 2\n",
      "j: 3\n",
      "i: 2  更新最早入邊: 3\n",
      "j: 1\n",
      "i: 2  更新最早入邊: 7\n",
      "i入邊最早的成員有: Lead(sdom[i]): 7 /Members(revsdom[sdom[i]]): [4, 6, 2] New In: 2\n",
      "------------\n",
      "New Stage: 0\n",
      "j: 8\n",
      "i: 0  更新最早入邊: 8\n",
      "j: 2\n",
      "i: 0  更新最早入邊: 7\n",
      "i入邊最早的成員有: Lead(sdom[i]): 7 /Members(revsdom[sdom[i]]): [4, 6, 2, 0] New In: 0\n",
      "------------\n",
      "New Stage: 8\n",
      "j: 3\n",
      "i: 8  更新最早入邊: 3\n",
      "i入邊最早的成員有: Lead(sdom[i]): 3 /Members(revsdom[sdom[i]]): [8] New In: 8\n",
      "------------\n",
      "New Stage: 3\n",
      "j: 7\n",
      "i: 3  更新最早入邊: 7\n",
      "i入邊最早的成員有: Lead(sdom[i]): 7 /Members(revsdom[sdom[i]]): [4, 6, 2, 0, 3] New In: 3\n",
      "find更新: 把best[p[x]]: 3 ->存到best[x]: 8\n",
      "--------------------------------------- \n",
      "Step 3:時刻從小到大，依序完成idom的遞推更新\n",
      "i: 7 idom[i]: 7 sdom[i]: 7\n",
      "i: 3 idom[i]: 7 sdom[i]: 7\n",
      "i: 8 idom[i]: 3 sdom[i]: 3\n",
      "i: 0 idom[i]: 7 sdom[i]: 7\n",
      "i: 2 idom[i]: 7 sdom[i]: 7\n",
      "i: 6 idom[i]: 7 sdom[i]: 7\n",
      "i: 4 idom[i]: 7 sdom[i]: 7\n",
      "i: 1 idom[i]: 4 sdom[i]: 6\n",
      "i: 5 idom[i]: 1 sdom[i]: 4\n"
     ]
    }
   ],
   "source": [
    "DFS_list_Dominator(root=7,\n",
    "                   visit_member=visit_point,\n",
    "                   Adj_list=Adj_List,\n",
    "                   Adj_Rlist=Adj_RDList)"
   ]
  },
  {
   "cell_type": "code",
   "execution_count": 11,
   "metadata": {},
   "outputs": [
    {
     "data": {
      "text/plain": [
       "array([7, 7, 7, 7, 7, 7, 7, 7, 3])"
      ]
     },
     "execution_count": 11,
     "metadata": {},
     "output_type": "execute_result"
    }
   ],
   "source": [
    "idom"
   ]
  }
 ],
 "metadata": {
  "kernelspec": {
   "display_name": "Python 3",
   "language": "python",
   "name": "python3"
  },
  "language_info": {
   "codemirror_mode": {
    "name": "ipython",
    "version": 3
   },
   "file_extension": ".py",
   "mimetype": "text/x-python",
   "name": "python",
   "nbconvert_exporter": "python",
   "pygments_lexer": "ipython3",
   "version": "3.7.4"
  }
 },
 "nbformat": 4,
 "nbformat_minor": 2
}
